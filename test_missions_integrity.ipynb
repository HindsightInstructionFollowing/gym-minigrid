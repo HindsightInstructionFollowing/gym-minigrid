{
 "cells": [
  {
   "cell_type": "code",
   "execution_count": 18,
   "metadata": {
    "collapsed": true,
    "pycharm": {
     "is_executing": false
    }
   },
   "outputs": [
    {
     "name": "stdout",
     "text": [
      "fetch_holdout_20_percent.json         fetch_train_missions_10_percent.json\r\nfetch_holdout_50_percent.json         fetch_train_missions_50_percent.json\r\nfetch_holdout_90_percent.json         fetch_train_missions_80_percent.json\r\n"
     ],
     "output_type": "stream"
    }
   ],
   "source": [
    "import json\n",
    "%ls gym_minigrid/envs/missions/"
   ]
  },
  {
   "cell_type": "code",
   "execution_count": 19,
   "outputs": [],
   "source": [
    "def sort_inside(a):\n",
    "    for l in a:\n",
    "        l.sort()\n",
    "    return a"
   ],
   "metadata": {
    "collapsed": false,
    "pycharm": {
     "name": "#%%\n",
     "is_executing": false
    }
   }
  },
  {
   "cell_type": "code",
   "execution_count": 20,
   "outputs": [],
   "source": [
    "file = open(\"gym_minigrid/envs/missions/fetch_train_missions_10_percent.json\", \"r\")\n",
    "missions_train10 = json.load(file)\n",
    "missions_train10 = sort_inside(missions_train10)\n",
    "\n",
    "file = open(\"gym_minigrid/envs/missions/fetch_train_missions_50_percent.json\", \"r\")\n",
    "missions_train50 = sort_inside(json.load(file))\n",
    "\n",
    "file = open(\"gym_minigrid/envs/missions/fetch_train_missions_80_percent.json\", \"r\")\n",
    "missions_train80 = sort_inside(json.load(file))\n"
   ],
   "metadata": {
    "collapsed": false,
    "pycharm": {
     "name": "#%%\n",
     "is_executing": false
    }
   }
  },
  {
   "cell_type": "code",
   "execution_count": 21,
   "outputs": [],
   "source": [
    "file = open(\"gym_minigrid/envs/missions/fetch_holdout_90_percent.json\", \"r\")\n",
    "missions_test10 = json.load(file)\n",
    "missions_test10 = sort_inside(missions_test10)\n",
    "\n",
    "\n",
    "file = open(\"gym_minigrid/envs/missions/fetch_holdout_50_percent.json\", \"r\")\n",
    "missions_test50 = sort_inside(json.load(file))\n",
    "\n",
    "file = open(\"gym_minigrid/envs/missions/fetch_holdout_20_percent.json\", \"r\")\n",
    "missions_test80 = sort_inside(json.load(file))"
   ],
   "metadata": {
    "collapsed": false,
    "pycharm": {
     "name": "#%%\n",
     "is_executing": false
    }
   }
  },
  {
   "cell_type": "code",
   "execution_count": 22,
   "outputs": [
    {
     "data": {
      "text/plain": "list"
     },
     "metadata": {},
     "output_type": "execute_result",
     "execution_count": 22
    }
   ],
   "source": [
    "missions_train10\n",
    "missions_test10\n",
    "type(missions_train10)"
   ],
   "metadata": {
    "collapsed": false,
    "pycharm": {
     "name": "#%%\n",
     "is_executing": false
    }
   }
  },
  {
   "cell_type": "code",
   "execution_count": 24,
   "outputs": [
    {
     "name": "stdout",
     "text": [
      "test ok\ntest ok\ntest ok\n"
     ],
     "output_type": "stream"
    }
   ],
   "source": [
    "def test_mission_intersection(train_set, test_set):\n",
    "    \n",
    "    mission_in_test = 0\n",
    "    for mission in missions_train10:\n",
    "        assert not mission in missions_test10, \"problem {} both in train and test\"\n",
    "    print(\"test ok\")\n",
    "\n",
    "test_mission_intersection(missions_train10, missions_test10)\n",
    "test_mission_intersection(missions_train50, missions_test50)\n",
    "test_mission_intersection(missions_train80, missions_test80)\n",
    "\n",
    "        "
   ],
   "metadata": {
    "collapsed": false,
    "pycharm": {
     "name": "#%%\n",
     "is_executing": false
    }
   }
  },
  {
   "cell_type": "code",
   "execution_count": 25,
   "outputs": [
    {
     "name": "stdout",
     "text": [
      "[['ball', 'light', 'medium', 'yellow'], ['key', 'purple', 'tiny', 'very_light'], ['giant', 'grey', 'key', 'very_light'], ['ball', 'neutral', 'tiny', 'yellow'], ['ball', 'giant', 'red', 'very_light'], ['ball', 'giant', 'red', 'very_dark'], ['key', 'neutral', 'purple', 'tiny'], ['dark', 'grey', 'key', 'medium'], ['green', 'key', 'large', 'very_dark'], ['ball', 'red', 'small', 'very_dark'], ['ball', 'dark', 'medium', 'yellow'], ['ball', 'green', 'large', 'very_dark'], ['key', 'large', 'neutral', 'red'], ['key', 'large', 'very_dark', 'yellow'], ['ball', 'medium', 'red', 'very_light'], ['blue', 'dark', 'key', 'medium'], ['key', 'large', 'very_light', 'yellow'], ['grey', 'key', 'tiny', 'very_light'], ['giant', 'key', 'neutral', 'red'], ['key', 'purple', 'small', 'very_dark'], ['ball', 'dark', 'small', 'yellow'], ['ball', 'large', 'light', 'yellow'], ['key', 'large', 'purple', 'very_light'], ['ball', 'grey', 'medium', 'neutral'], ['ball', 'large', 'neutral', 'yellow'], ['dark', 'key', 'tiny', 'yellow'], ['grey', 'key', 'small', 'very_light'], ['ball', 'dark', 'giant', 'green'], ['dark', 'giant', 'key', 'purple'], ['ball', 'medium', 'neutral', 'yellow'], ['ball', 'blue', 'dark', 'medium'], ['ball', 'blue', 'neutral', 'tiny'], ['giant', 'key', 'light', 'yellow'], ['ball', 'blue', 'large', 'neutral'], ['giant', 'key', 'red', 'very_light'], ['grey', 'key', 'medium', 'very_dark'], ['key', 'red', 'small', 'very_light'], ['blue', 'giant', 'key', 'light'], ['key', 'light', 'medium', 'red'], ['blue', 'key', 'large', 'very_dark'], ['key', 'medium', 'neutral', 'red'], ['ball', 'medium', 'very_dark', 'yellow'], ['dark', 'key', 'red', 'small'], ['dark', 'key', 'purple', 'small'], ['ball', 'medium', 'red', 'very_dark'], ['ball', 'green', 'medium', 'very_dark'], ['giant', 'grey', 'key', 'light'], ['key', 'light', 'red', 'tiny'], ['giant', 'key', 'purple', 'very_dark'], ['ball', 'blue', 'large', 'very_dark'], ['ball', 'medium', 'purple', 'very_dark'], ['ball', 'dark', 'medium', 'red'], ['dark', 'key', 'purple', 'tiny'], ['green', 'key', 'large', 'neutral'], ['key', 'light', 'medium', 'purple'], ['grey', 'key', 'small', 'very_dark'], ['key', 'neutral', 'red', 'tiny'], ['grey', 'key', 'large', 'light'], ['key', 'neutral', 'tiny', 'yellow'], ['key', 'neutral', 'small', 'yellow'], ['key', 'light', 'red', 'small'], ['giant', 'green', 'key', 'very_dark'], ['key', 'large', 'red', 'very_dark'], ['green', 'key', 'large', 'light'], ['dark', 'grey', 'key', 'tiny'], ['blue', 'dark', 'key', 'tiny'], ['ball', 'blue', 'large', 'light'], ['ball', 'dark', 'grey', 'small'], ['blue', 'dark', 'giant', 'key'], ['ball', 'grey', 'medium', 'very_dark'], ['giant', 'green', 'key', 'light'], ['green', 'key', 'tiny', 'very_dark'], ['giant', 'green', 'key', 'very_light'], ['ball', 'blue', 'giant', 'neutral'], ['ball', 'green', 'medium', 'neutral'], ['dark', 'green', 'key', 'small'], ['giant', 'key', 'neutral', 'purple'], ['ball', 'neutral', 'red', 'tiny'], ['ball', 'dark', 'giant', 'grey'], ['ball', 'green', 'small', 'very_light'], ['ball', 'giant', 'grey', 'very_dark'], ['ball', 'blue', 'dark', 'giant'], ['ball', 'giant', 'very_dark', 'yellow'], ['ball', 'giant', 'green', 'very_dark'], ['giant', 'green', 'key', 'neutral'], ['ball', 'giant', 'neutral', 'yellow'], ['ball', 'grey', 'large', 'very_light'], ['key', 'medium', 'red', 'very_light'], ['ball', 'neutral', 'red', 'small'], ['ball', 'large', 'red', 'very_light'], ['key', 'purple', 'small', 'very_light'], ['ball', 'grey', 'neutral', 'tiny'], ['ball', 'dark', 'tiny', 'yellow'], ['ball', 'medium', 'neutral', 'red'], ['ball', 'purple', 'small', 'very_light'], ['key', 'medium', 'very_light', 'yellow'], ['ball', 'blue', 'light', 'small'], ['grey', 'key', 'neutral', 'small'], ['blue', 'key', 'tiny', 'very_light'], ['ball', 'giant', 'very_light', 'yellow'], ['key', 'light', 'purple', 'small'], ['blue', 'giant', 'key', 'very_dark'], ['ball', 'giant', 'neutral', 'purple'], ['key', 'large', 'neutral', 'yellow'], ['ball', 'red', 'tiny', 'very_light'], ['key', 'large', 'light', 'yellow'], ['ball', 'grey', 'medium', 'very_light'], ['blue', 'key', 'small', 'very_dark'], ['ball', 'giant', 'purple', 'very_dark'], ['ball', 'tiny', 'very_dark', 'yellow'], ['green', 'key', 'medium', 'neutral'], ['ball', 'light', 'medium', 'purple'], ['blue', 'dark', 'key', 'large'], ['ball', 'medium', 'very_light', 'yellow'], ['key', 'red', 'small', 'very_dark'], ['dark', 'key', 'large', 'red'], ['ball', 'grey', 'small', 'very_dark'], ['blue', 'key', 'large', 'very_light'], ['blue', 'key', 'large', 'neutral'], ['blue', 'key', 'neutral', 'tiny'], ['key', 'neutral', 'red', 'small'], ['ball', 'tiny', 'very_light', 'yellow'], ['grey', 'key', 'large', 'neutral'], ['grey', 'key', 'medium', 'very_light'], ['dark', 'green', 'key', 'medium'], ['giant', 'key', 'red', 'very_dark'], ['green', 'key', 'light', 'small'], ['key', 'medium', 'purple', 'very_light'], ['ball', 'light', 'red', 'tiny'], ['ball', 'dark', 'medium', 'purple'], ['ball', 'blue', 'medium', 'neutral'], ['ball', 'dark', 'large', 'purple'], ['key', 'purple', 'tiny', 'very_dark'], ['giant', 'key', 'neutral', 'yellow'], ['ball', 'grey', 'large', 'neutral'], ['ball', 'dark', 'purple', 'small'], ['key', 'medium', 'neutral', 'purple'], ['ball', 'giant', 'light', 'yellow'], ['ball', 'purple', 'tiny', 'very_dark'], ['dark', 'giant', 'grey', 'key'], ['ball', 'red', 'small', 'very_light'], ['key', 'medium', 'very_dark', 'yellow'], ['ball', 'blue', 'small', 'very_dark'], ['ball', 'blue', 'giant', 'light'], ['green', 'key', 'small', 'very_light'], ['ball', 'blue', 'medium', 'very_dark'], ['key', 'medium', 'neutral', 'yellow'], ['grey', 'key', 'light', 'medium'], ['giant', 'key', 'light', 'purple'], ['grey', 'key', 'medium', 'neutral'], ['ball', 'blue', 'large', 'very_light'], ['grey', 'key', 'large', 'very_dark'], ['green', 'key', 'tiny', 'very_light'], ['blue', 'key', 'light', 'tiny'], ['ball', 'large', 'light', 'red'], ['ball', 'giant', 'neutral', 'red'], ['ball', 'giant', 'green', 'very_light'], ['ball', 'giant', 'green', 'neutral'], ['ball', 'green', 'neutral', 'small'], ['ball', 'grey', 'light', 'tiny'], ['ball', 'blue', 'dark', 'small'], ['dark', 'grey', 'key', 'large'], ['ball', 'dark', 'red', 'small'], ['ball', 'neutral', 'purple', 'small'], ['ball', 'dark', 'red', 'tiny'], ['key', 'large', 'light', 'red'], ['ball', 'grey', 'large', 'very_dark'], ['green', 'key', 'neutral', 'small'], ['ball', 'dark', 'grey', 'medium'], ['green', 'key', 'small', 'very_dark'], ['ball', 'green', 'light', 'tiny'], ['blue', 'key', 'medium', 'very_light'], ['key', 'light', 'small', 'yellow'], ['ball', 'neutral', 'small', 'yellow'], ['green', 'key', 'medium', 'very_dark'], ['ball', 'blue', 'dark', 'large'], ['ball', 'blue', 'giant', 'very_light'], ['ball', 'purple', 'small', 'very_dark'], ['blue', 'dark', 'key', 'small'], ['ball', 'dark', 'green', 'small'], ['ball', 'large', 'light', 'purple'], ['dark', 'key', 'medium', 'red'], ['ball', 'light', 'purple', 'tiny'], ['key', 'tiny', 'very_light', 'yellow'], ['ball', 'large', 'very_light', 'yellow'], ['ball', 'medium', 'neutral', 'purple'], ['giant', 'grey', 'key', 'very_dark'], ['ball', 'light', 'red', 'small'], ['ball', 'dark', 'grey', 'tiny'], ['green', 'key', 'large', 'very_light'], ['ball', 'blue', 'dark', 'tiny'], ['blue', 'key', 'light', 'small'], ['ball', 'green', 'neutral', 'tiny'], ['ball', 'large', 'neutral', 'red'], ['ball', 'grey', 'neutral', 'small'], ['ball', 'blue', 'tiny', 'very_dark'], ['dark', 'giant', 'key', 'red'], ['ball', 'blue', 'light', 'medium'], ['ball', 'giant', 'grey', 'neutral'], ['blue', 'giant', 'key', 'neutral'], ['ball', 'large', 'purple', 'very_dark'], ['ball', 'grey', 'tiny', 'very_light'], ['key', 'small', 'very_dark', 'yellow'], ['ball', 'dark', 'green', 'large'], ['ball', 'giant', 'grey', 'light'], ['ball', 'small', 'very_dark', 'yellow'], ['green', 'key', 'neutral', 'tiny'], ['key', 'light', 'purple', 'tiny'], ['key', 'small', 'very_light', 'yellow'], ['green', 'key', 'medium', 'very_light'], ['grey', 'key', 'large', 'very_light'], ['grey', 'key', 'light', 'small'], ['key', 'light', 'medium', 'yellow'], ['key', 'large', 'light', 'purple'], ['key', 'medium', 'red', 'very_dark'], ['ball', 'green', 'light', 'small'], ['key', 'tiny', 'very_dark', 'yellow'], ['blue', 'key', 'small', 'very_light'], ['ball', 'red', 'tiny', 'very_dark'], ['ball', 'green', 'large', 'light'], ['ball', 'large', 'red', 'very_dark'], ['key', 'neutral', 'purple', 'small'], ['ball', 'green', 'large', 'very_light'], ['ball', 'grey', 'large', 'light'], ['ball', 'grey', 'light', 'small'], ['ball', 'blue', 'light', 'tiny'], ['ball', 'light', 'small', 'yellow'], ['grey', 'key', 'tiny', 'very_dark'], ['ball', 'medium', 'purple', 'very_light'], ['blue', 'giant', 'key', 'very_light'], ['ball', 'grey', 'tiny', 'very_dark'], ['ball', 'giant', 'purple', 'very_light'], ['ball', 'blue', 'neutral', 'small'], ['ball', 'purple', 'tiny', 'very_light'], ['dark', 'giant', 'key', 'yellow'], ['ball', 'dark', 'large', 'yellow'], ['ball', 'dark', 'purple', 'tiny'], ['key', 'large', 'red', 'very_light'], ['ball', 'giant', 'grey', 'very_light'], ['ball', 'dark', 'giant', 'red'], ['ball', 'blue', 'tiny', 'very_light'], ['dark', 'green', 'key', 'tiny'], ['ball', 'large', 'purple', 'very_light'], ['ball', 'dark', 'grey', 'large'], ['ball', 'giant', 'light', 'red'], ['ball', 'green', 'tiny', 'very_light'], ['giant', 'grey', 'key', 'neutral'], ['blue', 'key', 'tiny', 'very_dark'], ['dark', 'key', 'small', 'yellow'], ['green', 'key', 'light', 'tiny'], ['ball', 'giant', 'light', 'purple'], ['ball', 'green', 'large', 'neutral'], ['dark', 'key', 'large', 'purple'], ['blue', 'key', 'light', 'medium'], ['ball', 'blue', 'small', 'very_light'], ['dark', 'key', 'large', 'yellow'], ['ball', 'dark', 'green', 'tiny'], ['ball', 'giant', 'green', 'light'], ['ball', 'blue', 'medium', 'very_light'], ['key', 'large', 'neutral', 'purple'], ['ball', 'large', 'neutral', 'purple'], ['blue', 'key', 'neutral', 'small'], ['blue', 'key', 'medium', 'neutral'], ['ball', 'green', 'medium', 'very_light'], ['giant', 'key', 'very_dark', 'yellow'], ['grey', 'key', 'light', 'tiny'], ['key', 'red', 'tiny', 'very_dark'], ['ball', 'grey', 'light', 'medium'], ['ball', 'light', 'purple', 'small'], ['ball', 'green', 'small', 'very_dark']] [['green', 'key', 'light', 'medium'], ['blue', 'key', 'large', 'light'], ['dark', 'key', 'medium', 'yellow'], ['ball', 'dark', 'green', 'medium'], ['dark', 'green', 'key', 'large'], ['ball', 'green', 'tiny', 'very_dark'], ['giant', 'key', 'very_light', 'yellow'], ['ball', 'green', 'light', 'medium'], ['key', 'red', 'tiny', 'very_light'], ['ball', 'dark', 'giant', 'yellow'], ['ball', 'large', 'very_dark', 'yellow'], ['ball', 'light', 'medium', 'red'], ['dark', 'grey', 'key', 'small'], ['giant', 'key', 'purple', 'very_light'], ['dark', 'key', 'medium', 'purple'], ['key', 'light', 'tiny', 'yellow'], ['key', 'large', 'purple', 'very_dark'], ['ball', 'blue', 'giant', 'very_dark'], ['key', 'medium', 'purple', 'very_dark'], ['ball', 'grey', 'small', 'very_light'], ['ball', 'light', 'tiny', 'yellow'], ['grey', 'key', 'neutral', 'tiny'], ['blue', 'key', 'medium', 'very_dark'], ['dark', 'key', 'red', 'tiny'], ['giant', 'key', 'light', 'red'], ['ball', 'neutral', 'purple', 'tiny'], ['dark', 'giant', 'green', 'key'], ['ball', 'small', 'very_light', 'yellow'], ['ball', 'dark', 'giant', 'purple'], ['ball', 'dark', 'large', 'red']]\n"
     ],
     "output_type": "stream"
    }
   ],
   "source": [],
   "metadata": {
    "collapsed": false,
    "pycharm": {
     "name": "#%%\n",
     "is_executing": false
    }
   }
  },
  {
   "cell_type": "code",
   "execution_count": null,
   "outputs": [],
   "source": [
    "\n"
   ],
   "metadata": {
    "collapsed": false,
    "pycharm": {
     "name": "#%%\n"
    }
   }
  }
 ],
 "metadata": {
  "kernelspec": {
   "display_name": "Python 3",
   "language": "python",
   "name": "python3"
  },
  "language_info": {
   "codemirror_mode": {
    "name": "ipython",
    "version": 2
   },
   "file_extension": ".py",
   "mimetype": "text/x-python",
   "name": "python",
   "nbconvert_exporter": "python",
   "pygments_lexer": "ipython2",
   "version": "2.7.6"
  },
  "pycharm": {
   "stem_cell": {
    "cell_type": "raw",
    "source": [],
    "metadata": {
     "collapsed": false
    }
   }
  }
 },
 "nbformat": 4,
 "nbformat_minor": 0
}