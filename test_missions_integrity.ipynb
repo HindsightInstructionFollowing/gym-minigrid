{
 "cells": [
  {
   "cell_type": "code",
   "execution_count": 18,
   "metadata": {
    "collapsed": true,
    "pycharm": {
     "is_executing": false
    }
   },
   "outputs": [
    {
     "name": "stdout",
     "text": [
      "fetch_holdout_20_percent.json         fetch_train_missions_10_percent.json\r\nfetch_holdout_50_percent.json         fetch_train_missions_50_percent.json\r\nfetch_holdout_90_percent.json         fetch_train_missions_80_percent.json\r\n"
     ],
     "output_type": "stream"
    }
   ],
   "source": [
    "import json\n",
    "%ls gym_minigrid/envs/missions/"
   ]
  },
  {
   "cell_type": "code",
   "execution_count": 19,
   "outputs": [],
   "source": [
    "def sort_inside(a):\n",
    "    for l in a:\n",
    "        l.sort()\n",
    "    return a"
   ],
   "metadata": {
    "collapsed": false,
    "pycharm": {
     "name": "#%%\n",
     "is_executing": false
    }
   }
  },
  {
   "cell_type": "code",
   "execution_count": 20,
   "outputs": [],
   "source": [
    "file = open(\"gym_minigrid/envs/missions/fetch_train_missions_10_percent.json\", \"r\")\n",
    "missions_train10 = json.load(file)\n",
    "missions_train10 = sort_inside(missions_train10)\n",
    "\n",
    "file = open(\"gym_minigrid/envs/missions/fetch_train_missions_50_percent.json\", \"r\")\n",
    "missions_train50 = sort_inside(json.load(file))\n",
    "\n",
    "file = open(\"gym_minigrid/envs/missions/fetch_train_missions_80_percent.json\", \"r\")\n",
    "missions_train80 = sort_inside(json.load(file))\n"
   ],
   "metadata": {
    "collapsed": false,
    "pycharm": {
     "name": "#%%\n",
     "is_executing": false
    }
   }
  },
  {
   "cell_type": "code",
   "execution_count": 21,
   "outputs": [],
   "source": [
    "file = open(\"gym_minigrid/envs/missions/fetch_holdout_90_percent.json\", \"r\")\n",
    "missions_test10 = json.load(file)\n",
    "missions_test10 = sort_inside(missions_test10)\n",
    "\n",
    "\n",
    "file = open(\"gym_minigrid/envs/missions/fetch_holdout_50_percent.json\", \"r\")\n",
    "missions_test50 = sort_inside(json.load(file))\n",
    "\n",
    "file = open(\"gym_minigrid/envs/missions/fetch_holdout_20_percent.json\", \"r\")\n",
    "missions_test80 = sort_inside(json.load(file))"
   ],
   "metadata": {
    "collapsed": false,
    "pycharm": {
     "name": "#%%\n",
     "is_executing": false
    }
   }
  },
  {
   "cell_type": "code",
   "execution_count": 22,
   "outputs": [
    {
     "data": {
      "text/plain": "list"
     },
     "metadata": {},
     "output_type": "execute_result",
     "execution_count": 22
    }
   ],
   "source": [
    "missions_train10\n",
    "missions_test10\n",
    "type(missions_train10)"
   ],
   "metadata": {
    "collapsed": false,
    "pycharm": {
     "name": "#%%\n",
     "is_executing": false
    }
   }
  },
  {
   "cell_type": "code",
   "execution_count": 24,
   "outputs": [
    {
     "name": "stdout",
     "text": [
      "test ok\ntest ok\ntest ok\n"
     ],
     "output_type": "stream"
    }
   ],
   "source": [
    "def test_mission_intersection(train_set, test_set):\n",
    "    \n",
    "    mission_in_test = 0\n",
    "    for mission in missions_train10:\n",
    "        assert not mission in missions_test10, \"problem {} both in train and test\"\n",
    "    print(\"test ok\")\n",
    "\n",
    "test_mission_intersection(missions_train10, missions_test10)\n",
    "test_mission_intersection(missions_train50, missions_test50)\n",
    "test_mission_intersection(missions_train80, missions_test80)\n",
    "\n",
    "        "
   ],
   "metadata": {
    "collapsed": false,
    "pycharm": {
     "name": "#%%\n",
     "is_executing": false
    }
   }
  },
  {
   "cell_type": "code",
   "execution_count": null,
   "outputs": [],
   "source": [
    "print(missions_test10, missions_train10)\n"
   ],
   "metadata": {
    "collapsed": false,
    "pycharm": {
     "name": "#%%\n"
    }
   }
  }
 ],
 "metadata": {
  "kernelspec": {
   "display_name": "Python 3",
   "language": "python",
   "name": "python3"
  },
  "language_info": {
   "codemirror_mode": {
    "name": "ipython",
    "version": 2
   },
   "file_extension": ".py",
   "mimetype": "text/x-python",
   "name": "python",
   "nbconvert_exporter": "python",
   "pygments_lexer": "ipython2",
   "version": "2.7.6"
  },
  "pycharm": {
   "stem_cell": {
    "cell_type": "raw",
    "source": [],
    "metadata": {
     "collapsed": false
    }
   }
  }
 },
 "nbformat": 4,
 "nbformat_minor": 0
}