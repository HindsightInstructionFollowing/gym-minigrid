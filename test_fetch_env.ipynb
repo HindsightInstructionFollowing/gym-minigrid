{
 "cells": [
  {
   "cell_type": "code",
   "execution_count": null,
   "outputs": [],
   "source": [
    "from gym_minigrid.envs import fetch_attr\n",
    "from gym_minigrid.wrappers import LessActionAndObsWrapper, FrameStackerWrapper, TextWrapper\n",
    "import os\n",
    "import numpy as np"
   ],
   "metadata": {
    "collapsed": false,
    "pycharm": {
     "name": "#%%\n"
    }
   }
  },
  {
   "cell_type": "code",
   "execution_count": null,
   "outputs": [],
   "source": [
    "print(os.getcwd())\n",
    "\n",
    "missions_path = \"gym_minigrid/envs/missions/fetch_train_missions_10_percent.json\"\n",
    "env = fetch_attr.FetchAttrEnv(numObjs=2,\n",
    "                              size=4,\n",
    "                              missions_file_str=missions_path\n",
    "                              )\n",
    "\n",
    "env = LessActionAndObsWrapper(env)"
   ],
   "metadata": {
    "collapsed": false,
    "pycharm": {
     "name": "#%%\n"
    }
   }
  },
  {
   "cell_type": "code",
   "execution_count": null,
   "outputs": [],
   "source": [],
   "metadata": {
    "collapsed": false,
    "pycharm": {
     "name": "#%%\n"
    }
   }
  },
  {
   "cell_type": "code",
   "execution_count": null,
   "outputs": [],
   "source": [
    "env.reset()\n",
    "for step in range(10):\n",
    "    act = env.action_space.sample()\n",
    "    obs, reward, done, info = env.step(act)\n",
    "    env.render()\n",
    "    "
   ],
   "metadata": {
    "collapsed": false,
    "pycharm": {
     "name": "#%%\n"
    }
   }
  },
  {
   "cell_type": "code",
   "execution_count": null,
   "outputs": [],
   "source": [
    "assert obs[\"image\"].shape == (7,7,4), obs[\"image\"].shape"
   ],
   "metadata": {
    "collapsed": false,
    "pycharm": {
     "name": "#%%\n"
    }
   }
  },
  {
   "cell_type": "code",
   "execution_count": null,
   "outputs": [],
   "source": [
    "# Should fail\n",
    "env.step(5)"
   ],
   "metadata": {
    "collapsed": false,
    "pycharm": {
     "name": "#%%\n"
    }
   }
  },
  {
   "cell_type": "code",
   "execution_count": null,
   "outputs": [],
   "source": [
    "env.render()\n",
    "print(obs)\n",
    "print(env)"
   ],
   "metadata": {
    "collapsed": false,
    "pycharm": {
     "name": "#%%\n"
    }
   }
  },
  {
   "cell_type": "code",
   "execution_count": null,
   "outputs": [],
   "source": [
    "env.carrying\n",
    "done"
   ],
   "metadata": {
    "collapsed": false,
    "pycharm": {
     "name": "#%%\n"
    }
   }
  },
  {
   "cell_type": "code",
   "execution_count": 28,
   "outputs": [
    {
     "name": "stdout",
     "text": [
      "go fetch a green ball light medium\n[3, 4, 2, 8, 14, 16, 22, 0]\ngo fetch a green ball light medium\n[3, 4, 2, 8, 14, 16, 22, 0]\ngo fetch a green ball light medium\n[3, 4, 2, 8, 14, 16, 22, 0]\ngo fetch a green ball light medium\n[3, 4, 2, 8, 14, 16, 22, 0]\ngo fetch a green ball light medium\n[3, 4, 2, 8, 14, 16, 22, 0]\ngo fetch a green ball light medium\n[3, 4, 2, 8, 14, 16, 22, 0]\ngo fetch a green ball light medium\n[3, 4, 2, 8, 14, 16, 22, 0]\ngo fetch a green ball light medium\n[3, 4, 2, 8, 14, 16, 22, 0]\ngo fetch a green ball light medium\n[3, 4, 2, 8, 14, 16, 22, 0]\ngo fetch a green ball light medium\n[3, 4, 2, 8, 14, 16, 22, 0]\n"
     ],
     "output_type": "stream"
    }
   ],
   "source": [
    "env = TextWrapper(FrameStackerWrapper(env), vocab_file_str=\"gym_minigrid/envs/missions/vocab_fetch.json\")\n",
    "done = False\n",
    "while not done:\n",
    "    env.reset()\n",
    "    for step in range(10):\n",
    "        act = env.action_space.sample()\n",
    "        obs, reward, done, info = env.step(act)\n",
    "        \n",
    "        assert np.array_equal(obs[\"last_state\"], obs[\"image\"][-1,:,:,:]), \"Problem\"\n",
    "        env.render()\n",
    "        \n",
    "        print(obs[\"raw_mission\"])        \n",
    "        print(obs[\"mission\"])        \n"
   ],
   "metadata": {
    "collapsed": false,
    "pycharm": {
     "name": "#%%\n",
     "is_executing": false
    }
   }
  },
  {
   "cell_type": "code",
   "execution_count": 25,
   "outputs": [
    {
     "name": "stdout",
     "text": [
      "LICENSE                        \u001b[31mmanual_control.py\u001b[m\u001b[m*\r\nREADME.md                      \u001b[31mrun_tests.py\u001b[m\u001b[m*\r\n\u001b[1m\u001b[36mfigures\u001b[m\u001b[m/                       setup.py\r\n\u001b[1m\u001b[36mgym_minigrid\u001b[m\u001b[m/                  test_fetch_env.ipynb\r\n\u001b[1m\u001b[36mgym_minigrid.egg-info\u001b[m\u001b[m/         test_missions_integrity.ipynb\r\n"
     ],
     "output_type": "stream"
    }
   ],
   "source": [
    "%ls"
   ],
   "metadata": {
    "collapsed": false,
    "pycharm": {
     "name": "#%%\n",
     "is_executing": false
    }
   }
  },
  {
   "cell_type": "code",
   "execution_count": null,
   "outputs": [],
   "source": [
    "\n"
   ],
   "metadata": {
    "collapsed": false,
    "pycharm": {
     "name": "#%%\n"
    }
   }
  }
 ],
 "metadata": {
  "kernelspec": {
   "name": "pycharm-66d7f63c",
   "language": "python",
   "display_name": "PyCharm (ther)"
  },
  "language_info": {
   "codemirror_mode": {
    "name": "ipython",
    "version": 2
   },
   "file_extension": ".py",
   "mimetype": "text/x-python",
   "name": "python",
   "nbconvert_exporter": "python",
   "pygments_lexer": "ipython2",
   "version": "2.7.6"
  },
  "pycharm": {
   "stem_cell": {
    "cell_type": "raw",
    "source": [],
    "metadata": {
     "collapsed": false
    }
   }
  }
 },
 "nbformat": 4,
 "nbformat_minor": 0
}